{
 "cells": [
  {
   "cell_type": "code",
   "execution_count": 4,
   "id": "855d5298",
   "metadata": {},
   "outputs": [
    {
     "name": "stdout",
     "output_type": "stream",
     "text": [
      "Requirement already satisfied: xgboost in c:\\users\\lenovo\\anaconda3\\lib\\site-packages (from -r req.txt (line 1)) (1.6.1)\n",
      "Collecting mlflow\n",
      "  Using cached mlflow-2.4.1-py3-none-any.whl (18.1 MB)\n",
      "Collecting azureml-mlflow\n",
      "  Using cached azureml_mlflow-1.51.0-py3-none-any.whl (814 kB)\n",
      "Requirement already satisfied: scikit-learn in c:\\users\\lenovo\\anaconda3\\lib\\site-packages (from -r req.txt (line 4)) (0.24.2)\n",
      "Requirement already satisfied: pandas in c:\\users\\lenovo\\anaconda3\\lib\\site-packages (from -r req.txt (line 5)) (1.5.0)\n",
      "Requirement already satisfied: numpy in c:\\users\\lenovo\\anaconda3\\lib\\site-packages (from -r req.txt (line 6)) (1.20.3)\n",
      "Requirement already satisfied: matplotlib in c:\\users\\lenovo\\anaconda3\\lib\\site-packages (from -r req.txt (line 7)) (3.4.2)\n",
      "Requirement already satisfied: scipy in c:\\users\\lenovo\\anaconda3\\lib\\site-packages (from xgboost->-r req.txt (line 1)) (1.9.1)\n",
      "Requirement already satisfied: click<9,>=7.0 in c:\\users\\lenovo\\anaconda3\\lib\\site-packages (from mlflow->-r req.txt (line 2)) (8.0.4)\n",
      "Requirement already satisfied: pytz<2024 in c:\\users\\lenovo\\anaconda3\\lib\\site-packages (from mlflow->-r req.txt (line 2)) (2022.1)\n",
      "Collecting querystring-parser<2\n",
      "  Using cached querystring_parser-1.2.4-py2.py3-none-any.whl (7.9 kB)\n",
      "Requirement already satisfied: Flask<3 in c:\\users\\lenovo\\anaconda3\\lib\\site-packages (from mlflow->-r req.txt (line 2)) (1.1.2)\n",
      "Requirement already satisfied: packaging<24 in c:\\users\\lenovo\\anaconda3\\lib\\site-packages (from mlflow->-r req.txt (line 2)) (21.3)\n",
      "Requirement already satisfied: pyyaml<7,>=5.1 in c:\\users\\lenovo\\anaconda3\\lib\\site-packages (from mlflow->-r req.txt (line 2)) (6.0)\n",
      "Collecting databricks-cli<1,>=0.8.7\n",
      "  Using cached databricks_cli-0.17.7-py3-none-any.whl\n",
      "Collecting gitpython<4,>=2.1.0\n",
      "  Using cached GitPython-3.1.31-py3-none-any.whl (184 kB)\n",
      "Requirement already satisfied: sqlparse<1,>=0.4.0 in c:\\users\\lenovo\\anaconda3\\lib\\site-packages (from mlflow->-r req.txt (line 2)) (0.4.2)\n",
      "Requirement already satisfied: requests<3,>=2.17.3 in c:\\users\\lenovo\\anaconda3\\lib\\site-packages (from mlflow->-r req.txt (line 2)) (2.28.1)\n",
      "Requirement already satisfied: cloudpickle<3 in c:\\users\\lenovo\\anaconda3\\lib\\site-packages (from mlflow->-r req.txt (line 2)) (2.0.0)\n",
      "Requirement already satisfied: markdown<4,>=3.3 in c:\\users\\lenovo\\anaconda3\\lib\\site-packages (from mlflow->-r req.txt (line 2)) (3.3.4)\n",
      "Collecting alembic!=1.10.0,<2\n",
      "  Using cached alembic-1.11.1-py3-none-any.whl (224 kB)\n",
      "Requirement already satisfied: importlib-metadata!=4.7.0,<7,>=3.7.0 in c:\\users\\lenovo\\anaconda3\\lib\\site-packages (from mlflow->-r req.txt (line 2)) (4.11.3)\n",
      "Collecting pyarrow<13,>=4.0.0\n",
      "  Using cached pyarrow-12.0.1-cp38-cp38-win_amd64.whl (21.5 MB)\n",
      "Collecting waitress<3\n",
      "  Using cached waitress-2.1.2-py3-none-any.whl (57 kB)\n",
      "Collecting Jinja2<4,>=3.0\n",
      "  Using cached Jinja2-3.1.2-py3-none-any.whl (133 kB)\n",
      "Requirement already satisfied: entrypoints<1 in c:\\users\\lenovo\\anaconda3\\lib\\site-packages (from mlflow->-r req.txt (line 2)) (0.4)\n",
      "Requirement already satisfied: protobuf<5,>=3.12.0 in c:\\users\\lenovo\\anaconda3\\lib\\site-packages (from mlflow->-r req.txt (line 2)) (3.20.3)\n",
      "Collecting docker<7,>=4.0.0\n",
      "  Using cached docker-6.1.3-py3-none-any.whl (148 kB)\n",
      "Requirement already satisfied: sqlalchemy<3,>=1.4.0 in c:\\users\\lenovo\\anaconda3\\lib\\site-packages (from mlflow->-r req.txt (line 2)) (1.4.39)\n",
      "Requirement already satisfied: azure-core!=1.22.0,<2.0.0,>=1.8.0 in c:\\users\\lenovo\\anaconda3\\lib\\site-packages (from azureml-mlflow->-r req.txt (line 3)) (1.26.4)\n",
      "Requirement already satisfied: azure-common<2.0.0,>=1.1 in c:\\users\\lenovo\\anaconda3\\lib\\site-packages (from azureml-mlflow->-r req.txt (line 3)) (1.1.28)\n",
      "Requirement already satisfied: cryptography in c:\\users\\lenovo\\anaconda3\\lib\\site-packages (from azureml-mlflow->-r req.txt (line 3)) (37.0.1)\n",
      "Requirement already satisfied: azure-mgmt-core<2.0.0,>=1.2.0 in c:\\users\\lenovo\\anaconda3\\lib\\site-packages (from azureml-mlflow->-r req.txt (line 3)) (1.4.0)\n",
      "Requirement already satisfied: msrest>=0.6.18 in c:\\users\\lenovo\\anaconda3\\lib\\site-packages (from azureml-mlflow->-r req.txt (line 3)) (0.7.1)\n",
      "Collecting jsonpickle\n",
      "  Using cached jsonpickle-3.0.1-py2.py3-none-any.whl (40 kB)\n",
      "Collecting azure-storage-blob<=12.13.0,>=12.5.0\n",
      "  Using cached azure_storage_blob-12.13.0-py3-none-any.whl (377 kB)\n",
      "Requirement already satisfied: python-dateutil<3.0.0,>=2.7.3 in c:\\users\\lenovo\\anaconda3\\lib\\site-packages (from azureml-mlflow->-r req.txt (line 3)) (2.8.2)\n",
      "Collecting mlflow-skinny\n",
      "  Using cached mlflow_skinny-2.4.1-py3-none-any.whl (4.3 MB)\n",
      "Requirement already satisfied: azure-identity in c:\\users\\lenovo\\anaconda3\\lib\\site-packages (from azureml-mlflow->-r req.txt (line 3)) (1.12.0)\n",
      "Requirement already satisfied: threadpoolctl>=2.0.0 in c:\\users\\lenovo\\anaconda3\\lib\\site-packages (from scikit-learn->-r req.txt (line 4)) (2.2.0)\n",
      "Requirement already satisfied: joblib>=0.11 in c:\\users\\lenovo\\anaconda3\\lib\\site-packages (from scikit-learn->-r req.txt (line 4)) (1.1.0)\n",
      "Requirement already satisfied: pillow>=6.2.0 in c:\\users\\lenovo\\anaconda3\\lib\\site-packages (from matplotlib->-r req.txt (line 7)) (9.2.0)\n",
      "Requirement already satisfied: kiwisolver>=1.0.1 in c:\\users\\lenovo\\anaconda3\\lib\\site-packages (from matplotlib->-r req.txt (line 7)) (1.4.2)\n",
      "Requirement already satisfied: pyparsing>=2.2.1 in c:\\users\\lenovo\\anaconda3\\lib\\site-packages (from matplotlib->-r req.txt (line 7)) (3.0.9)\n",
      "Requirement already satisfied: cycler>=0.10 in c:\\users\\lenovo\\anaconda3\\lib\\site-packages (from matplotlib->-r req.txt (line 7)) (0.11.0)\n",
      "Collecting Mako\n",
      "  Using cached Mako-1.2.4-py3-none-any.whl (78 kB)\n",
      "Requirement already satisfied: importlib-resources in c:\\users\\lenovo\\anaconda3\\lib\\site-packages (from alembic!=1.10.0,<2->mlflow->-r req.txt (line 2)) (5.2.0)\n",
      "Requirement already satisfied: typing-extensions>=4 in c:\\users\\lenovo\\anaconda3\\lib\\site-packages (from alembic!=1.10.0,<2->mlflow->-r req.txt (line 2)) (4.3.0)\n",
      "Requirement already satisfied: six>=1.11.0 in c:\\users\\lenovo\\anaconda3\\lib\\site-packages (from azure-core!=1.22.0,<2.0.0,>=1.8.0->azureml-mlflow->-r req.txt (line 3)) (1.16.0)\n",
      "Requirement already satisfied: colorama in c:\\users\\lenovo\\anaconda3\\lib\\site-packages (from click<9,>=7.0->mlflow->-r req.txt (line 2)) (0.4.5)\n",
      "Requirement already satisfied: cffi>=1.12 in c:\\users\\lenovo\\anaconda3\\lib\\site-packages (from cryptography->azureml-mlflow->-r req.txt (line 3)) (1.15.1)\n",
      "Requirement already satisfied: pyjwt>=1.7.0 in c:\\users\\lenovo\\anaconda3\\lib\\site-packages (from databricks-cli<1,>=0.8.7->mlflow->-r req.txt (line 2)) (2.4.0)\n",
      "Requirement already satisfied: urllib3<2.0.0,>=1.26.7 in c:\\users\\lenovo\\anaconda3\\lib\\site-packages (from databricks-cli<1,>=0.8.7->mlflow->-r req.txt (line 2)) (1.26.11)\n",
      "Collecting tabulate>=0.7.7\n",
      "  Using cached tabulate-0.9.0-py3-none-any.whl (35 kB)\n",
      "Requirement already satisfied: oauthlib>=3.1.0 in c:\\users\\lenovo\\anaconda3\\lib\\site-packages (from databricks-cli<1,>=0.8.7->mlflow->-r req.txt (line 2)) (3.1.1)\n",
      "Collecting pywin32>=304\n",
      "  Using cached pywin32-306-cp38-cp38-win_amd64.whl (9.4 MB)\n",
      "Requirement already satisfied: websocket-client>=0.32.0 in c:\\users\\lenovo\\anaconda3\\lib\\site-packages (from docker<7,>=4.0.0->mlflow->-r req.txt (line 2)) (0.58.0)\n",
      "Requirement already satisfied: itsdangerous>=0.24 in c:\\users\\lenovo\\anaconda3\\lib\\site-packages (from Flask<3->mlflow->-r req.txt (line 2)) (2.0.1)\n",
      "Requirement already satisfied: Werkzeug>=0.15 in c:\\users\\lenovo\\anaconda3\\lib\\site-packages (from Flask<3->mlflow->-r req.txt (line 2)) (2.0.3)\n",
      "Collecting gitdb<5,>=4.0.1\n",
      "  Using cached gitdb-4.0.10-py3-none-any.whl (62 kB)\n",
      "Requirement already satisfied: zipp>=0.5 in c:\\users\\lenovo\\anaconda3\\lib\\site-packages (from importlib-metadata!=4.7.0,<7,>=3.7.0->mlflow->-r req.txt (line 2)) (3.8.0)\n",
      "Requirement already satisfied: MarkupSafe>=2.0 in c:\\users\\lenovo\\anaconda3\\lib\\site-packages (from Jinja2<4,>=3.0->mlflow->-r req.txt (line 2)) (2.0.1)\n",
      "Requirement already satisfied: certifi>=2017.4.17 in c:\\users\\lenovo\\anaconda3\\lib\\site-packages (from msrest>=0.6.18->azureml-mlflow->-r req.txt (line 3)) (2022.9.14)\n",
      "Requirement already satisfied: requests-oauthlib>=0.5.0 in c:\\users\\lenovo\\anaconda3\\lib\\site-packages (from msrest>=0.6.18->azureml-mlflow->-r req.txt (line 3)) (1.3.0)\n",
      "Requirement already satisfied: isodate>=0.6.0 in c:\\users\\lenovo\\anaconda3\\lib\\site-packages (from msrest>=0.6.18->azureml-mlflow->-r req.txt (line 3)) (0.6.1)\n",
      "Requirement already satisfied: idna<4,>=2.5 in c:\\users\\lenovo\\anaconda3\\lib\\site-packages (from requests<3,>=2.17.3->mlflow->-r req.txt (line 2)) (3.3)\n",
      "Requirement already satisfied: charset-normalizer<3,>=2 in c:\\users\\lenovo\\anaconda3\\lib\\site-packages (from requests<3,>=2.17.3->mlflow->-r req.txt (line 2)) (2.0.4)\n",
      "Requirement already satisfied: greenlet!=0.4.17 in c:\\users\\lenovo\\anaconda3\\lib\\site-packages (from sqlalchemy<3,>=1.4.0->mlflow->-r req.txt (line 2)) (1.1.1)\n",
      "Requirement already satisfied: msal-extensions<2.0.0,>=0.3.0 in c:\\users\\lenovo\\anaconda3\\lib\\site-packages (from azure-identity->azureml-mlflow->-r req.txt (line 3)) (1.0.0)\n",
      "Requirement already satisfied: msal<2.0.0,>=1.12.0 in c:\\users\\lenovo\\anaconda3\\lib\\site-packages (from azure-identity->azureml-mlflow->-r req.txt (line 3)) (1.22.0)\n",
      "Requirement already satisfied: pycparser in c:\\users\\lenovo\\anaconda3\\lib\\site-packages (from cffi>=1.12->cryptography->azureml-mlflow->-r req.txt (line 3)) (2.21)\n",
      "Collecting smmap<6,>=3.0.1\n",
      "  Using cached smmap-5.0.0-py3-none-any.whl (24 kB)\n",
      "Requirement already satisfied: portalocker<3,>=1.6 in c:\\users\\lenovo\\anaconda3\\lib\\site-packages (from msal-extensions<2.0.0,>=0.3.0->azure-identity->azureml-mlflow->-r req.txt (line 3)) (2.7.0)\n",
      "Installing collected packages: pywin32, waitress, tabulate, smmap, querystring-parser, pyarrow, Mako, jsonpickle, Jinja2, gitdb, docker, databricks-cli, alembic, gitpython, mlflow-skinny, mlflow, azure-storage-blob, azureml-mlflow\n",
      "Successfully installed Jinja2-3.1.2 Mako-1.2.4 alembic-1.11.1 azure-storage-blob-12.13.0 azureml-mlflow-1.51.0 databricks-cli-0.17.7 docker-6.1.3 gitdb-4.0.10 gitpython-3.1.31 jsonpickle-3.0.1 mlflow-2.4.1 mlflow-skinny-2.4.1 pyarrow-12.0.1 pywin32-306 querystring-parser-1.2.4 smmap-5.0.0 tabulate-0.9.0 waitress-2.1.2\n",
      "Note: you may need to restart the kernel to use updated packages.\n"
     ]
    },
    {
     "name": "stderr",
     "output_type": "stream",
     "text": [
      "WARNING: Ignoring invalid distribution -rotobuf (c:\\users\\lenovo\\anaconda3\\lib\\site-packages)\n",
      "WARNING: Ignoring invalid distribution -rotobuf (c:\\users\\lenovo\\anaconda3\\lib\\site-packages)\n",
      "WARNING: Ignoring invalid distribution -rotobuf (c:\\users\\lenovo\\anaconda3\\lib\\site-packages)\n",
      "  WARNING: The script waitress-serve.exe is installed in 'C:\\Users\\LENOVO\\AppData\\Roaming\\Python\\Python38\\Scripts' which is not on PATH.\n",
      "  Consider adding this directory to PATH or, if you prefer to suppress this warning, use --no-warn-script-location.\n",
      "  WARNING: The script tabulate.exe is installed in 'C:\\Users\\LENOVO\\AppData\\Roaming\\Python\\Python38\\Scripts' which is not on PATH.\n",
      "  Consider adding this directory to PATH or, if you prefer to suppress this warning, use --no-warn-script-location.\n",
      "  WARNING: The script mako-render.exe is installed in 'C:\\Users\\LENOVO\\AppData\\Roaming\\Python\\Python38\\Scripts' which is not on PATH.\n",
      "  Consider adding this directory to PATH or, if you prefer to suppress this warning, use --no-warn-script-location.\n",
      "  WARNING: The scripts databricks.exe and dbfs.exe are installed in 'C:\\Users\\LENOVO\\AppData\\Roaming\\Python\\Python38\\Scripts' which is not on PATH.\n",
      "  Consider adding this directory to PATH or, if you prefer to suppress this warning, use --no-warn-script-location.\n",
      "  WARNING: The script alembic.exe is installed in 'C:\\Users\\LENOVO\\AppData\\Roaming\\Python\\Python38\\Scripts' which is not on PATH.\n",
      "  Consider adding this directory to PATH or, if you prefer to suppress this warning, use --no-warn-script-location.\n",
      "  WARNING: The script mlflow.exe is installed in 'C:\\Users\\LENOVO\\AppData\\Roaming\\Python\\Python38\\Scripts' which is not on PATH.\n",
      "  Consider adding this directory to PATH or, if you prefer to suppress this warning, use --no-warn-script-location.\n",
      "  WARNING: The script mlflow.exe is installed in 'C:\\Users\\LENOVO\\AppData\\Roaming\\Python\\Python38\\Scripts' which is not on PATH.\n",
      "  Consider adding this directory to PATH or, if you prefer to suppress this warning, use --no-warn-script-location.\n",
      "ERROR: pip's dependency resolver does not currently take into account all the packages that are installed. This behaviour is the source of the following dependency conflicts.\n",
      "anaconda-project 0.11.1 requires ruamel-yaml, which is not installed.\n",
      "azure-storage-file-datalake 12.11.0 requires azure-storage-blob<13.0.0,>=12.16.0b1, but you have azure-storage-blob 12.13.0 which is incompatible.\n",
      "WARNING: Ignoring invalid distribution -rotobuf (c:\\users\\lenovo\\anaconda3\\lib\\site-packages)\n",
      "WARNING: Ignoring invalid distribution -rotobuf (c:\\users\\lenovo\\anaconda3\\lib\\site-packages)\n",
      "WARNING: Ignoring invalid distribution -rotobuf (c:\\users\\lenovo\\anaconda3\\lib\\site-packages)\n"
     ]
    }
   ],
   "source": [
    "# Ensure you have the dependencies for this notebook\n",
    "%pip install -r req.txt --user"
   ]
  },
  {
   "cell_type": "code",
   "execution_count": 5,
   "id": "7ffa980e",
   "metadata": {},
   "outputs": [],
   "source": [
    "import warnings\n",
    "\n",
    "warnings.simplefilter(\"ignore\")"
   ]
  },
  {
   "cell_type": "code",
   "execution_count": 6,
   "id": "db52901e",
   "metadata": {},
   "outputs": [
    {
     "name": "stdout",
     "output_type": "stream",
     "text": [
      "Requirement already satisfied: mlflow in c:\\users\\lenovo\\appdata\\roaming\\python\\python38\\site-packages (2.4.1)\n",
      "Requirement already satisfied: pytz<2024 in c:\\users\\lenovo\\anaconda3\\lib\\site-packages (from mlflow) (2022.1)\n",
      "Requirement already satisfied: pyyaml<7,>=5.1 in c:\\users\\lenovo\\anaconda3\\lib\\site-packages (from mlflow) (6.0)\n",
      "Requirement already satisfied: scipy<2 in c:\\users\\lenovo\\anaconda3\\lib\\site-packages (from mlflow) (1.9.1)\n",
      "Requirement already satisfied: pandas<3 in c:\\users\\lenovo\\anaconda3\\lib\\site-packages (from mlflow) (1.5.0)\n",
      "Requirement already satisfied: importlib-metadata!=4.7.0,<7,>=3.7.0 in c:\\users\\lenovo\\anaconda3\\lib\\site-packages (from mlflow) (4.11.3)\n",
      "Requirement already satisfied: Flask<3 in c:\\users\\lenovo\\anaconda3\\lib\\site-packages (from mlflow) (1.1.2)\n",
      "Requirement already satisfied: protobuf<5,>=3.12.0 in c:\\users\\lenovo\\anaconda3\\lib\\site-packages (from mlflow) (3.20.3)\n",
      "Requirement already satisfied: markdown<4,>=3.3 in c:\\users\\lenovo\\anaconda3\\lib\\site-packages (from mlflow) (3.3.4)\n",
      "Requirement already satisfied: click<9,>=7.0 in c:\\users\\lenovo\\anaconda3\\lib\\site-packages (from mlflow) (8.0.4)\n",
      "Requirement already satisfied: scikit-learn<2 in c:\\users\\lenovo\\anaconda3\\lib\\site-packages (from mlflow) (0.24.2)\n",
      "Requirement already satisfied: waitress<3 in c:\\users\\lenovo\\appdata\\roaming\\python\\python38\\site-packages (from mlflow) (2.1.2)\n",
      "Requirement already satisfied: Jinja2<4,>=3.0 in c:\\users\\lenovo\\appdata\\roaming\\python\\python38\\site-packages (from mlflow) (3.1.2)\n",
      "Requirement already satisfied: requests<3,>=2.17.3 in c:\\users\\lenovo\\anaconda3\\lib\\site-packages (from mlflow) (2.28.1)\n",
      "Requirement already satisfied: sqlalchemy<3,>=1.4.0 in c:\\users\\lenovo\\anaconda3\\lib\\site-packages (from mlflow) (1.4.39)\n",
      "Requirement already satisfied: numpy<2 in c:\\users\\lenovo\\anaconda3\\lib\\site-packages (from mlflow) (1.20.3)\n",
      "Requirement already satisfied: entrypoints<1 in c:\\users\\lenovo\\anaconda3\\lib\\site-packages (from mlflow) (0.4)\n",
      "Requirement already satisfied: gitpython<4,>=2.1.0 in c:\\users\\lenovo\\appdata\\roaming\\python\\python38\\site-packages (from mlflow) (3.1.31)\n",
      "Requirement already satisfied: pyarrow<13,>=4.0.0 in c:\\users\\lenovo\\appdata\\roaming\\python\\python38\\site-packages (from mlflow) (12.0.1)\n",
      "Requirement already satisfied: querystring-parser<2 in c:\\users\\lenovo\\appdata\\roaming\\python\\python38\\site-packages (from mlflow) (1.2.4)\n",
      "Requirement already satisfied: packaging<24 in c:\\users\\lenovo\\anaconda3\\lib\\site-packages (from mlflow) (21.3)\n",
      "Requirement already satisfied: docker<7,>=4.0.0 in c:\\users\\lenovo\\appdata\\roaming\\python\\python38\\site-packages (from mlflow) (6.1.3)\n",
      "Requirement already satisfied: sqlparse<1,>=0.4.0 in c:\\users\\lenovo\\anaconda3\\lib\\site-packages (from mlflow) (0.4.2)\n",
      "Requirement already satisfied: cloudpickle<3 in c:\\users\\lenovo\\anaconda3\\lib\\site-packages (from mlflow) (2.0.0)\n",
      "Requirement already satisfied: matplotlib<4 in c:\\users\\lenovo\\anaconda3\\lib\\site-packages (from mlflow) (3.4.2)\n",
      "Requirement already satisfied: databricks-cli<1,>=0.8.7 in c:\\users\\lenovo\\appdata\\roaming\\python\\python38\\site-packages (from mlflow) (0.17.7)\n",
      "Requirement already satisfied: alembic!=1.10.0,<2 in c:\\users\\lenovo\\appdata\\roaming\\python\\python38\\site-packages (from mlflow) (1.11.1)\n",
      "Requirement already satisfied: importlib-resources in c:\\users\\lenovo\\anaconda3\\lib\\site-packages (from alembic!=1.10.0,<2->mlflow) (5.2.0)\n",
      "Requirement already satisfied: Mako in c:\\users\\lenovo\\appdata\\roaming\\python\\python38\\site-packages (from alembic!=1.10.0,<2->mlflow) (1.2.4)\n",
      "Requirement already satisfied: typing-extensions>=4 in c:\\users\\lenovo\\anaconda3\\lib\\site-packages (from alembic!=1.10.0,<2->mlflow) (4.3.0)\n",
      "Requirement already satisfied: colorama in c:\\users\\lenovo\\anaconda3\\lib\\site-packages (from click<9,>=7.0->mlflow) (0.4.5)\n",
      "Requirement already satisfied: oauthlib>=3.1.0 in c:\\users\\lenovo\\anaconda3\\lib\\site-packages (from databricks-cli<1,>=0.8.7->mlflow) (3.1.1)\n",
      "Requirement already satisfied: six>=1.10.0 in c:\\users\\lenovo\\anaconda3\\lib\\site-packages (from databricks-cli<1,>=0.8.7->mlflow) (1.16.0)\n",
      "Requirement already satisfied: urllib3<2.0.0,>=1.26.7 in c:\\users\\lenovo\\anaconda3\\lib\\site-packages (from databricks-cli<1,>=0.8.7->mlflow) (1.26.11)\n",
      "Requirement already satisfied: tabulate>=0.7.7 in c:\\users\\lenovo\\appdata\\roaming\\python\\python38\\site-packages (from databricks-cli<1,>=0.8.7->mlflow) (0.9.0)\n",
      "Requirement already satisfied: pyjwt>=1.7.0 in c:\\users\\lenovo\\anaconda3\\lib\\site-packages (from databricks-cli<1,>=0.8.7->mlflow) (2.4.0)\n",
      "Requirement already satisfied: pywin32>=304 in c:\\users\\lenovo\\appdata\\roaming\\python\\python38\\site-packages (from docker<7,>=4.0.0->mlflow) (306)\n",
      "Requirement already satisfied: websocket-client>=0.32.0 in c:\\users\\lenovo\\anaconda3\\lib\\site-packages (from docker<7,>=4.0.0->mlflow) (0.58.0)\n",
      "Requirement already satisfied: itsdangerous>=0.24 in c:\\users\\lenovo\\anaconda3\\lib\\site-packages (from Flask<3->mlflow) (2.0.1)\n",
      "Requirement already satisfied: Werkzeug>=0.15 in c:\\users\\lenovo\\anaconda3\\lib\\site-packages (from Flask<3->mlflow) (2.0.3)\n",
      "Requirement already satisfied: gitdb<5,>=4.0.1 in c:\\users\\lenovo\\appdata\\roaming\\python\\python38\\site-packages (from gitpython<4,>=2.1.0->mlflow) (4.0.10)\n",
      "Requirement already satisfied: zipp>=0.5 in c:\\users\\lenovo\\anaconda3\\lib\\site-packages (from importlib-metadata!=4.7.0,<7,>=3.7.0->mlflow) (3.8.0)\n",
      "Requirement already satisfied: MarkupSafe>=2.0 in c:\\users\\lenovo\\anaconda3\\lib\\site-packages (from Jinja2<4,>=3.0->mlflow) (2.0.1)\n",
      "Requirement already satisfied: pyparsing>=2.2.1 in c:\\users\\lenovo\\anaconda3\\lib\\site-packages (from matplotlib<4->mlflow) (3.0.9)\n",
      "Requirement already satisfied: python-dateutil>=2.7 in c:\\users\\lenovo\\anaconda3\\lib\\site-packages (from matplotlib<4->mlflow) (2.8.2)\n",
      "Requirement already satisfied: cycler>=0.10 in c:\\users\\lenovo\\anaconda3\\lib\\site-packages (from matplotlib<4->mlflow) (0.11.0)\n",
      "Requirement already satisfied: pillow>=6.2.0 in c:\\users\\lenovo\\anaconda3\\lib\\site-packages (from matplotlib<4->mlflow) (9.2.0)\n",
      "Requirement already satisfied: kiwisolver>=1.0.1 in c:\\users\\lenovo\\anaconda3\\lib\\site-packages (from matplotlib<4->mlflow) (1.4.2)\n",
      "Requirement already satisfied: charset-normalizer<3,>=2 in c:\\users\\lenovo\\anaconda3\\lib\\site-packages (from requests<3,>=2.17.3->mlflow) (2.0.4)\n",
      "Requirement already satisfied: idna<4,>=2.5 in c:\\users\\lenovo\\anaconda3\\lib\\site-packages (from requests<3,>=2.17.3->mlflow) (3.3)\n",
      "Requirement already satisfied: certifi>=2017.4.17 in c:\\users\\lenovo\\anaconda3\\lib\\site-packages (from requests<3,>=2.17.3->mlflow) (2022.9.14)\n",
      "Requirement already satisfied: joblib>=0.11 in c:\\users\\lenovo\\anaconda3\\lib\\site-packages (from scikit-learn<2->mlflow) (1.1.0)\n",
      "Requirement already satisfied: threadpoolctl>=2.0.0 in c:\\users\\lenovo\\anaconda3\\lib\\site-packages (from scikit-learn<2->mlflow) (2.2.0)\n",
      "Requirement already satisfied: greenlet!=0.4.17 in c:\\users\\lenovo\\anaconda3\\lib\\site-packages (from sqlalchemy<3,>=1.4.0->mlflow) (1.1.1)\n",
      "Requirement already satisfied: smmap<6,>=3.0.1 in c:\\users\\lenovo\\appdata\\roaming\\python\\python38\\site-packages (from gitdb<5,>=4.0.1->gitpython<4,>=2.1.0->mlflow) (5.0.0)\n",
      "Note: you may need to restart the kernel to use updated packages.\n"
     ]
    },
    {
     "name": "stderr",
     "output_type": "stream",
     "text": [
      "WARNING: Ignoring invalid distribution -rotobuf (c:\\users\\lenovo\\anaconda3\\lib\\site-packages)\n",
      "WARNING: Ignoring invalid distribution -rotobuf (c:\\users\\lenovo\\anaconda3\\lib\\site-packages)\n",
      "WARNING: Ignoring invalid distribution -rotobuf (c:\\users\\lenovo\\anaconda3\\lib\\site-packages)\n",
      "WARNING: Ignoring invalid distribution -rotobuf (c:\\users\\lenovo\\anaconda3\\lib\\site-packages)\n",
      "WARNING: Ignoring invalid distribution -rotobuf (c:\\users\\lenovo\\anaconda3\\lib\\site-packages)\n",
      "WARNING: Ignoring invalid distribution -rotobuf (c:\\users\\lenovo\\anaconda3\\lib\\site-packages)\n"
     ]
    }
   ],
   "source": [
    "pip install mlflow"
   ]
  },
  {
   "cell_type": "code",
   "execution_count": 7,
   "id": "3dc5b32c",
   "metadata": {},
   "outputs": [
    {
     "name": "stderr",
     "output_type": "stream",
     "text": [
      "2023/06/14 15:37:43 INFO mlflow.tracking.fluent: Experiment with name 'heart-condition-classifier' does not exist. Creating a new experiment.\n"
     ]
    },
    {
     "data": {
      "text/plain": [
       "<Experiment: artifact_location='file:///C:/Users/LENOVO/Desktop/xgboost-with-mlflowLog/mlruns/736217185099158391', creation_time=1686746263314, experiment_id='736217185099158391', last_update_time=1686746263314, lifecycle_stage='active', name='heart-condition-classifier', tags={}>"
      ]
     },
     "execution_count": 7,
     "metadata": {},
     "output_type": "execute_result"
    }
   ],
   "source": [
    "#Configuring the experiment\n",
    "import mlflow\n",
    "mlflow.set_experiment(experiment_name=\"heart-condition-classifier\")"
   ]
  },
  {
   "cell_type": "code",
   "execution_count": 8,
   "id": "16a4f3b5",
   "metadata": {},
   "outputs": [],
   "source": [
    "import pandas as pd"
   ]
  },
  {
   "cell_type": "code",
   "execution_count": 9,
   "id": "32b8dfe3",
   "metadata": {},
   "outputs": [],
   "source": [
    "file_url = \"https://azuremlexampledata.blob.core.windows.net/data/heart-disease-uci/data/heart.csv\"\n",
    "df = pd.read_csv(file_url)"
   ]
  },
  {
   "cell_type": "code",
   "execution_count": 17,
   "id": "da55482a",
   "metadata": {},
   "outputs": [
    {
     "name": "stdout",
     "output_type": "stream",
     "text": [
      "<class 'pandas.core.frame.DataFrame'>\n",
      "RangeIndex: 303 entries, 0 to 302\n",
      "Data columns (total 14 columns):\n",
      " #   Column    Non-Null Count  Dtype  \n",
      "---  ------    --------------  -----  \n",
      " 0   age       303 non-null    int64  \n",
      " 1   sex       303 non-null    int64  \n",
      " 2   cp        303 non-null    int64  \n",
      " 3   trestbps  303 non-null    int64  \n",
      " 4   chol      303 non-null    int64  \n",
      " 5   fbs       303 non-null    int64  \n",
      " 6   restecg   303 non-null    int64  \n",
      " 7   thalach   303 non-null    int64  \n",
      " 8   exang     303 non-null    int64  \n",
      " 9   oldpeak   303 non-null    float64\n",
      " 10  slope     303 non-null    int64  \n",
      " 11  ca        303 non-null    int64  \n",
      " 12  thal      303 non-null    int8   \n",
      " 13  target    303 non-null    int64  \n",
      "dtypes: float64(1), int64(12), int8(1)\n",
      "memory usage: 31.2 KB\n"
     ]
    }
   ],
   "source": [
    "df.info()"
   ]
  },
  {
   "cell_type": "code",
   "execution_count": 13,
   "id": "2397d4b5",
   "metadata": {},
   "outputs": [
    {
     "data": {
      "text/plain": [
       "age         0\n",
       "sex         0\n",
       "cp          0\n",
       "trestbps    0\n",
       "chol        0\n",
       "fbs         0\n",
       "restecg     0\n",
       "thalach     0\n",
       "exang       0\n",
       "oldpeak     0\n",
       "slope       0\n",
       "ca          0\n",
       "thal        0\n",
       "target      0\n",
       "dtype: int64"
      ]
     },
     "execution_count": 13,
     "metadata": {},
     "output_type": "execute_result"
    }
   ],
   "source": [
    "df.isnull().sum()"
   ]
  },
  {
   "cell_type": "code",
   "execution_count": 14,
   "id": "229c468c",
   "metadata": {},
   "outputs": [],
   "source": [
    "# conver category into encoding\n",
    "df[\"thal\"] = df[\"thal\"].astype(\"category\").cat.codes"
   ]
  },
  {
   "cell_type": "code",
   "execution_count": 15,
   "id": "d49e97cc",
   "metadata": {},
   "outputs": [
    {
     "data": {
      "text/html": [
       "<div>\n",
       "<style scoped>\n",
       "    .dataframe tbody tr th:only-of-type {\n",
       "        vertical-align: middle;\n",
       "    }\n",
       "\n",
       "    .dataframe tbody tr th {\n",
       "        vertical-align: top;\n",
       "    }\n",
       "\n",
       "    .dataframe thead th {\n",
       "        text-align: right;\n",
       "    }\n",
       "</style>\n",
       "<table border=\"1\" class=\"dataframe\">\n",
       "  <thead>\n",
       "    <tr style=\"text-align: right;\">\n",
       "      <th></th>\n",
       "      <th>age</th>\n",
       "      <th>sex</th>\n",
       "      <th>cp</th>\n",
       "      <th>trestbps</th>\n",
       "      <th>chol</th>\n",
       "      <th>fbs</th>\n",
       "      <th>restecg</th>\n",
       "      <th>thalach</th>\n",
       "      <th>exang</th>\n",
       "      <th>oldpeak</th>\n",
       "      <th>slope</th>\n",
       "      <th>ca</th>\n",
       "      <th>thal</th>\n",
       "      <th>target</th>\n",
       "    </tr>\n",
       "  </thead>\n",
       "  <tbody>\n",
       "    <tr>\n",
       "      <th>0</th>\n",
       "      <td>63</td>\n",
       "      <td>1</td>\n",
       "      <td>1</td>\n",
       "      <td>145</td>\n",
       "      <td>233</td>\n",
       "      <td>1</td>\n",
       "      <td>2</td>\n",
       "      <td>150</td>\n",
       "      <td>0</td>\n",
       "      <td>2.3</td>\n",
       "      <td>3</td>\n",
       "      <td>0</td>\n",
       "      <td>2</td>\n",
       "      <td>0</td>\n",
       "    </tr>\n",
       "    <tr>\n",
       "      <th>1</th>\n",
       "      <td>67</td>\n",
       "      <td>1</td>\n",
       "      <td>4</td>\n",
       "      <td>160</td>\n",
       "      <td>286</td>\n",
       "      <td>0</td>\n",
       "      <td>2</td>\n",
       "      <td>108</td>\n",
       "      <td>1</td>\n",
       "      <td>1.5</td>\n",
       "      <td>2</td>\n",
       "      <td>3</td>\n",
       "      <td>3</td>\n",
       "      <td>1</td>\n",
       "    </tr>\n",
       "    <tr>\n",
       "      <th>2</th>\n",
       "      <td>67</td>\n",
       "      <td>1</td>\n",
       "      <td>4</td>\n",
       "      <td>120</td>\n",
       "      <td>229</td>\n",
       "      <td>0</td>\n",
       "      <td>2</td>\n",
       "      <td>129</td>\n",
       "      <td>1</td>\n",
       "      <td>2.6</td>\n",
       "      <td>2</td>\n",
       "      <td>2</td>\n",
       "      <td>4</td>\n",
       "      <td>0</td>\n",
       "    </tr>\n",
       "    <tr>\n",
       "      <th>3</th>\n",
       "      <td>37</td>\n",
       "      <td>1</td>\n",
       "      <td>3</td>\n",
       "      <td>130</td>\n",
       "      <td>250</td>\n",
       "      <td>0</td>\n",
       "      <td>0</td>\n",
       "      <td>187</td>\n",
       "      <td>0</td>\n",
       "      <td>3.5</td>\n",
       "      <td>3</td>\n",
       "      <td>0</td>\n",
       "      <td>3</td>\n",
       "      <td>0</td>\n",
       "    </tr>\n",
       "    <tr>\n",
       "      <th>4</th>\n",
       "      <td>41</td>\n",
       "      <td>0</td>\n",
       "      <td>2</td>\n",
       "      <td>130</td>\n",
       "      <td>204</td>\n",
       "      <td>0</td>\n",
       "      <td>2</td>\n",
       "      <td>172</td>\n",
       "      <td>0</td>\n",
       "      <td>1.4</td>\n",
       "      <td>1</td>\n",
       "      <td>0</td>\n",
       "      <td>3</td>\n",
       "      <td>0</td>\n",
       "    </tr>\n",
       "  </tbody>\n",
       "</table>\n",
       "</div>"
      ],
      "text/plain": [
       "   age  sex  cp  trestbps  chol  fbs  restecg  thalach  exang  oldpeak  slope  \\\n",
       "0   63    1   1       145   233    1        2      150      0      2.3      3   \n",
       "1   67    1   4       160   286    0        2      108      1      1.5      2   \n",
       "2   67    1   4       120   229    0        2      129      1      2.6      2   \n",
       "3   37    1   3       130   250    0        0      187      0      3.5      3   \n",
       "4   41    0   2       130   204    0        2      172      0      1.4      1   \n",
       "\n",
       "   ca  thal  target  \n",
       "0   0     2       0  \n",
       "1   3     3       1  \n",
       "2   2     4       0  \n",
       "3   0     3       0  \n",
       "4   0     3       0  "
      ]
     },
     "execution_count": 15,
     "metadata": {},
     "output_type": "execute_result"
    }
   ],
   "source": [
    "df.head()"
   ]
  },
  {
   "cell_type": "code",
   "execution_count": 16,
   "id": "5f485c1d",
   "metadata": {},
   "outputs": [
    {
     "data": {
      "text/plain": [
       "array([2, 3, 4, 0, 1], dtype=int8)"
      ]
     },
     "execution_count": 16,
     "metadata": {},
     "output_type": "execute_result"
    }
   ],
   "source": [
    "df[\"thal\"].unique()"
   ]
  },
  {
   "cell_type": "code",
   "execution_count": 18,
   "id": "8b1fa191",
   "metadata": {},
   "outputs": [],
   "source": [
    "from sklearn.model_selection import train_test_split\n",
    "\n",
    "X_train, X_test, y_train, y_test = train_test_split(\n",
    "    df.drop(\"target\", axis=1), df[\"target\"], test_size=0.3\n",
    ")"
   ]
  },
  {
   "cell_type": "code",
   "execution_count": 19,
   "id": "c96126fe",
   "metadata": {},
   "outputs": [],
   "source": [
    "# Training a model\n",
    "# We are going to use autologging capabilities in MLflow to track parameters and metrics:\n",
    "mlflow.xgboost.autolog()"
   ]
  },
  {
   "cell_type": "code",
   "execution_count": 20,
   "id": "6794a79c",
   "metadata": {},
   "outputs": [],
   "source": [
    "# let create a simple classifier\n",
    "from xgboost import XGBClassifier\n",
    "model = XGBClassifier(use_label_encoder=False, eval_metric=\"logloss\")"
   ]
  },
  {
   "cell_type": "code",
   "execution_count": 21,
   "id": "1b4f2a1d",
   "metadata": {},
   "outputs": [],
   "source": [
    "# run the mlflow\n",
    "run = mlflow.start_run()"
   ]
  },
  {
   "cell_type": "code",
   "execution_count": 22,
   "id": "29b98cd1",
   "metadata": {},
   "outputs": [
    {
     "name": "stderr",
     "output_type": "stream",
     "text": [
      "2023/06/14 16:23:10 WARNING mlflow.xgboost: Unable to log dataset information to MLflow Tracking.XGBoost version must be >= 1.7.0\n",
      "2023/06/14 16:23:10 WARNING mlflow.xgboost: Unable to log dataset information to MLflow Tracking.XGBoost version must be >= 1.7.0\n"
     ]
    },
    {
     "data": {
      "text/plain": [
       "XGBClassifier(base_score=0.5, booster='gbtree', callbacks=None,\n",
       "              colsample_bylevel=1, colsample_bynode=1, colsample_bytree=1,\n",
       "              early_stopping_rounds=None, enable_categorical=False,\n",
       "              eval_metric='logloss', gamma=0, gpu_id=-1,\n",
       "              grow_policy='depthwise', importance_type=None,\n",
       "              interaction_constraints='', learning_rate=0.300000012,\n",
       "              max_bin=256, max_cat_to_onehot=4, max_delta_step=0, max_depth=6,\n",
       "              max_leaves=0, min_child_weight=1, missing=nan,\n",
       "              monotone_constraints='()', n_estimators=100, n_jobs=0,\n",
       "              num_parallel_tree=1, predictor='auto', random_state=0,\n",
       "              reg_alpha=0, reg_lambda=1, ...)"
      ]
     },
     "execution_count": 22,
     "metadata": {},
     "output_type": "execute_result"
    }
   ],
   "source": [
    "model.fit(X_train, y_train, eval_set=[(X_test, y_test)], verbose=False)"
   ]
  },
  {
   "cell_type": "code",
   "execution_count": 23,
   "id": "7920a9d4",
   "metadata": {},
   "outputs": [],
   "source": [
    "# calculate recall metric for the heart desease prediction because the important is to reduce type two error (predicted negative but its positive)\n",
    "y_pred = model.predict(X_test)"
   ]
  },
  {
   "cell_type": "code",
   "execution_count": 24,
   "id": "08e81c52",
   "metadata": {},
   "outputs": [],
   "source": [
    "from sklearn.metrics import accuracy_score, recall_score\n",
    "\n",
    "accuracy = accuracy_score(y_test, y_pred)\n",
    "recall = recall_score(y_test, y_pred)"
   ]
  },
  {
   "cell_type": "code",
   "execution_count": 25,
   "id": "13608d90",
   "metadata": {},
   "outputs": [
    {
     "name": "stdout",
     "output_type": "stream",
     "text": [
      "Accuracy: 74.73%\n",
      "Recall: 60.00%\n"
     ]
    }
   ],
   "source": [
    "print(\"Accuracy: %.2f%%\" % (accuracy * 100.0))\n",
    "print(\"Recall: %.2f%%\" % (recall * 100.0))"
   ]
  },
  {
   "cell_type": "code",
   "execution_count": 26,
   "id": "1a2be57d",
   "metadata": {},
   "outputs": [],
   "source": [
    "# Exploring the expriment with MLFlow\n",
    "mlflow.end_run()"
   ]
  },
  {
   "cell_type": "code",
   "execution_count": 28,
   "id": "103c512a",
   "metadata": {},
   "outputs": [
    {
     "data": {
      "text/plain": [
       "'ee4d00d8880242df8753065f27dba3be'"
      ]
     },
     "execution_count": 28,
     "metadata": {},
     "output_type": "execute_result"
    }
   ],
   "source": [
    "run.info.run_id"
   ]
  },
  {
   "cell_type": "code",
   "execution_count": 29,
   "id": "a1d5bd07",
   "metadata": {},
   "outputs": [
    {
     "data": {
      "text/plain": [
       "<Run: data=<RunData: metrics={'accuracy_score_X_test': 0.7472527472527473,\n",
       " 'recall_score_X_test': 0.6,\n",
       " 'validation_0-logloss': 0.8244304791178265}, params={'base_score': 'None',\n",
       " 'booster': 'None',\n",
       " 'colsample_bylevel': 'None',\n",
       " 'colsample_bynode': 'None',\n",
       " 'colsample_bytree': 'None',\n",
       " 'custom_metric': 'None',\n",
       " 'early_stopping_rounds': 'None',\n",
       " 'eval_metric': 'logloss',\n",
       " 'gamma': 'None',\n",
       " 'gpu_id': 'None',\n",
       " 'grow_policy': 'None',\n",
       " 'interaction_constraints': 'None',\n",
       " 'learning_rate': 'None',\n",
       " 'max_bin': 'None',\n",
       " 'max_cat_to_onehot': 'None',\n",
       " 'max_delta_step': 'None',\n",
       " 'max_depth': 'None',\n",
       " 'max_leaves': 'None',\n",
       " 'maximize': 'None',\n",
       " 'min_child_weight': 'None',\n",
       " 'monotone_constraints': 'None',\n",
       " 'n_jobs': 'None',\n",
       " 'num_boost_round': '100',\n",
       " 'num_parallel_tree': 'None',\n",
       " 'objective': 'binary:logistic',\n",
       " 'predictor': 'None',\n",
       " 'random_state': 'None',\n",
       " 'reg_alpha': 'None',\n",
       " 'reg_lambda': 'None',\n",
       " 'sampling_method': 'None',\n",
       " 'scale_pos_weight': 'None',\n",
       " 'subsample': 'None',\n",
       " 'tree_method': 'None',\n",
       " 'validate_parameters': 'None',\n",
       " 'verbose_eval': 'False',\n",
       " 'verbosity': 'None'}, tags={'mlflow.log-model.history': '[{\"run_id\": \"ee4d00d8880242df8753065f27dba3be\", '\n",
       "                             '\"artifact_path\": \"model\", \"utc_time_created\": '\n",
       "                             '\"2023-06-14 13:23:12.111231\", \"flavors\": '\n",
       "                             '{\"python_function\": {\"loader_module\": '\n",
       "                             '\"mlflow.xgboost\", \"python_version\": \"3.8.11\", '\n",
       "                             '\"data\": \"model.xgb\", \"env\": {\"conda\": '\n",
       "                             '\"conda.yaml\", \"virtualenv\": \"python_env.yaml\"}}, '\n",
       "                             '\"xgboost\": {\"xgb_version\": \"1.6.1\", \"data\": '\n",
       "                             '\"model.xgb\", \"model_class\": '\n",
       "                             '\"xgboost.sklearn.XGBClassifier\", \"model_format\": '\n",
       "                             '\"xgb\", \"code\": null}}, \"model_uuid\": '\n",
       "                             '\"8f64912f167b49719b395ebd5753f6de\", '\n",
       "                             '\"mlflow_version\": \"2.4.1\", \"signature\": '\n",
       "                             '{\"inputs\": \"[{\\\\\"type\\\\\": \\\\\"long\\\\\", '\n",
       "                             '\\\\\"name\\\\\": \\\\\"age\\\\\"}, {\\\\\"type\\\\\": \\\\\"long\\\\\", '\n",
       "                             '\\\\\"name\\\\\": \\\\\"sex\\\\\"}, {\\\\\"type\\\\\": \\\\\"long\\\\\", '\n",
       "                             '\\\\\"name\\\\\": \\\\\"cp\\\\\"}, {\\\\\"type\\\\\": \\\\\"long\\\\\", '\n",
       "                             '\\\\\"name\\\\\": \\\\\"trestbps\\\\\"}, {\\\\\"type\\\\\": '\n",
       "                             '\\\\\"long\\\\\", \\\\\"name\\\\\": \\\\\"chol\\\\\"}, '\n",
       "                             '{\\\\\"type\\\\\": \\\\\"long\\\\\", \\\\\"name\\\\\": \\\\\"fbs\\\\\"}, '\n",
       "                             '{\\\\\"type\\\\\": \\\\\"long\\\\\", \\\\\"name\\\\\": '\n",
       "                             '\\\\\"restecg\\\\\"}, {\\\\\"type\\\\\": \\\\\"long\\\\\", '\n",
       "                             '\\\\\"name\\\\\": \\\\\"thalach\\\\\"}, {\\\\\"type\\\\\": '\n",
       "                             '\\\\\"long\\\\\", \\\\\"name\\\\\": \\\\\"exang\\\\\"}, '\n",
       "                             '{\\\\\"type\\\\\": \\\\\"double\\\\\", \\\\\"name\\\\\": '\n",
       "                             '\\\\\"oldpeak\\\\\"}, {\\\\\"type\\\\\": \\\\\"long\\\\\", '\n",
       "                             '\\\\\"name\\\\\": \\\\\"slope\\\\\"}, {\\\\\"type\\\\\": '\n",
       "                             '\\\\\"long\\\\\", \\\\\"name\\\\\": \\\\\"ca\\\\\"}, {\\\\\"type\\\\\": '\n",
       "                             '\\\\\"integer\\\\\", \\\\\"name\\\\\": \\\\\"thal\\\\\"}]\", '\n",
       "                             '\"outputs\": \"[{\\\\\"type\\\\\": \\\\\"tensor\\\\\", '\n",
       "                             '\\\\\"tensor-spec\\\\\": {\\\\\"dtype\\\\\": \\\\\"int32\\\\\", '\n",
       "                             '\\\\\"shape\\\\\": [-1]}}]\"}}]',\n",
       " 'mlflow.runName': 'popular-frog-800',\n",
       " 'mlflow.source.name': 'C:\\\\Users\\\\LENOVO\\\\anaconda3\\\\lib\\\\site-packages\\\\ipykernel_launcher.py',\n",
       " 'mlflow.source.type': 'LOCAL',\n",
       " 'mlflow.user': 'Thair Nofal'}>, info=<RunInfo: artifact_uri='file:///C:/Users/LENOVO/Desktop/xgboost-with-mlflowLog/mlruns/736217185099158391/ee4d00d8880242df8753065f27dba3be/artifacts', end_time=1686749203714, experiment_id='736217185099158391', lifecycle_stage='active', run_id='ee4d00d8880242df8753065f27dba3be', run_name='popular-frog-800', run_uuid='ee4d00d8880242df8753065f27dba3be', start_time=1686748980167, status='FINISHED', user_id='Thair Nofal'>, inputs=<RunInputs: dataset_inputs=[<DatasetInput: dataset=<Dataset: digest='6991ee56', name='dataset', profile='{\"num_rows\": 91, \"num_elements\": 1183}', schema=('{\"mlflow_colspec\": [{\"type\": \"long\", \"name\": \"age\"}, {\"type\": \"long\", '\n",
       " '\"name\": \"sex\"}, {\"type\": \"long\", \"name\": \"cp\"}, {\"type\": \"long\", \"name\": '\n",
       " '\"trestbps\"}, {\"type\": \"long\", \"name\": \"chol\"}, {\"type\": \"long\", \"name\": '\n",
       " '\"fbs\"}, {\"type\": \"long\", \"name\": \"restecg\"}, {\"type\": \"long\", \"name\": '\n",
       " '\"thalach\"}, {\"type\": \"long\", \"name\": \"exang\"}, {\"type\": \"double\", \"name\": '\n",
       " '\"oldpeak\"}, {\"type\": \"long\", \"name\": \"slope\"}, {\"type\": \"long\", \"name\": '\n",
       " '\"ca\"}, {\"type\": \"integer\", \"name\": \"thal\"}]}'), source=('{\"tags\": {\"mlflow.user\": \"Thair Nofal\", \"mlflow.source.name\": '\n",
       " '\"C:\\\\\\\\Users\\\\\\\\LENOVO\\\\\\\\anaconda3\\\\\\\\lib\\\\\\\\site-packages\\\\\\\\ipykernel_launcher.py\", '\n",
       " '\"mlflow.source.type\": \"LOCAL\"}}'), source_type='code'>, tags=[<InputTag: key='mlflow.data.context', value='eval'>]>]>>"
      ]
     },
     "execution_count": 29,
     "metadata": {},
     "output_type": "execute_result"
    }
   ],
   "source": [
    "# To see what's has been logged, we can query the run again:\n",
    "mlflow.get_run(run.info.run_id)"
   ]
  },
  {
   "cell_type": "code",
   "execution_count": 30,
   "id": "620006c9",
   "metadata": {},
   "outputs": [
    {
     "data": {
      "text/html": [
       "<div>\n",
       "<style scoped>\n",
       "    .dataframe tbody tr th:only-of-type {\n",
       "        vertical-align: middle;\n",
       "    }\n",
       "\n",
       "    .dataframe tbody tr th {\n",
       "        vertical-align: top;\n",
       "    }\n",
       "\n",
       "    .dataframe thead th {\n",
       "        text-align: right;\n",
       "    }\n",
       "</style>\n",
       "<table border=\"1\" class=\"dataframe\">\n",
       "  <thead>\n",
       "    <tr style=\"text-align: right;\">\n",
       "      <th></th>\n",
       "      <th>Value</th>\n",
       "    </tr>\n",
       "  </thead>\n",
       "  <tbody>\n",
       "  </tbody>\n",
       "</table>\n",
       "</div>"
      ],
      "text/plain": [
       "Empty DataFrame\n",
       "Columns: [Value]\n",
       "Index: []"
      ]
     },
     "execution_count": 30,
     "metadata": {},
     "output_type": "execute_result"
    }
   ],
   "source": [
    "# Let's explore the parameters that got logged:\n",
    "pd.DataFrame(data=[run.data.params], index=[\"Value\"]).T"
   ]
  },
  {
   "cell_type": "code",
   "execution_count": 31,
   "id": "a5965bf4",
   "metadata": {},
   "outputs": [
    {
     "data": {
      "text/html": [
       "<div>\n",
       "<style scoped>\n",
       "    .dataframe tbody tr th:only-of-type {\n",
       "        vertical-align: middle;\n",
       "    }\n",
       "\n",
       "    .dataframe tbody tr th {\n",
       "        vertical-align: top;\n",
       "    }\n",
       "\n",
       "    .dataframe thead th {\n",
       "        text-align: right;\n",
       "    }\n",
       "</style>\n",
       "<table border=\"1\" class=\"dataframe\">\n",
       "  <thead>\n",
       "    <tr style=\"text-align: right;\">\n",
       "      <th></th>\n",
       "      <th>Value</th>\n",
       "    </tr>\n",
       "  </thead>\n",
       "  <tbody>\n",
       "  </tbody>\n",
       "</table>\n",
       "</div>"
      ],
      "text/plain": [
       "Empty DataFrame\n",
       "Columns: [Value]\n",
       "Index: []"
      ]
     },
     "execution_count": 31,
     "metadata": {},
     "output_type": "execute_result"
    }
   ],
   "source": [
    "pd.DataFrame(data=[run.data.metrics], index=[\"Value\"]).T"
   ]
  },
  {
   "cell_type": "code",
   "execution_count": 32,
   "id": "d219bed7",
   "metadata": {},
   "outputs": [
    {
     "data": {
      "text/plain": [
       "[<FileInfo: file_size=188, is_dir=False, path='feature_importance_weight.json'>,\n",
       " <FileInfo: file_size=23164, is_dir=False, path='feature_importance_weight.png'>,\n",
       " <FileInfo: file_size=151, is_dir=False, path='metric_info.json'>,\n",
       " <FileInfo: file_size=None, is_dir=True, path='model'>]"
      ]
     },
     "execution_count": 32,
     "metadata": {},
     "output_type": "execute_result"
    }
   ],
   "source": [
    "# Let's explore artifacts that got logged in the run. This requires to use the MLflow client:\n",
    "\n",
    "client = mlflow.tracking.MlflowClient()\n",
    "client.list_artifacts(run_id=run.info.run_id)"
   ]
  },
  {
   "cell_type": "code",
   "execution_count": 33,
   "id": "e1da84e4",
   "metadata": {},
   "outputs": [],
   "source": [
    "file_path = mlflow.artifacts.download_artifacts(\n",
    "    run_id=run.info.run_id, artifact_path=\"feature_importance_weight.png\"\n",
    ")"
   ]
  },
  {
   "cell_type": "code",
   "execution_count": 34,
   "id": "7b78f2de",
   "metadata": {},
   "outputs": [
    {
     "data": {
      "image/png": "[encoded data removed]",
      "text/plain": [
       "<Figure size 640x480 with 1 Axes>"
      ]
     },
     "metadata": {},
     "output_type": "display_data"
    }
   ],
   "source": [
    "import matplotlib.pyplot as plt\n",
    "import matplotlib.image as img\n",
    "\n",
    "image = img.imread(file_path)\n",
    "plt.imshow(image)\n",
    "plt.show()"
   ]
  },
  {
   "cell_type": "code",
   "execution_count": 35,
   "id": "72621cb7",
   "metadata": {},
   "outputs": [],
   "source": [
    "# autolog has also logged the model for us, let's try to get it back\n",
    "classifier = mlflow.xgboost.load_model(f\"runs:/{run.info.run_id}/model\")"
   ]
  },
  {
   "cell_type": "code",
   "execution_count": 36,
   "id": "7b17c48d",
   "metadata": {},
   "outputs": [
    {
     "data": {
      "text/plain": [
       "xgboost.sklearn.XGBClassifier"
      ]
     },
     "execution_count": 36,
     "metadata": {},
     "output_type": "execute_result"
    }
   ],
   "source": [
    "type(classifier)"
   ]
  },
  {
   "cell_type": "code",
   "execution_count": null,
   "id": "3f568f6a",
   "metadata": {},
   "outputs": [],
   "source": [
    "classifier.predict(X_test)"
   ]
  },
  {
   "cell_type": "code",
   "execution_count": 37,
   "id": "9fb519d6",
   "metadata": {},
   "outputs": [
    {
     "data": {
      "text/plain": [
       "array([1, 0, 0, 0, 1, 0, 0, 0, 0, 1, 1, 0, 1, 0, 0, 1, 0, 1, 1, 0, 0, 0,\n",
       "       0, 0, 1, 0, 0, 1, 1, 0, 0, 0, 0, 0, 0, 0, 0, 0, 0, 1, 1, 0, 0, 1,\n",
       "       0, 0, 1, 0, 0, 0, 1, 0, 0, 0, 1, 0, 0, 0, 0, 0, 1, 0, 0, 1, 1, 0,\n",
       "       0, 0, 1, 1, 0, 0, 0, 1, 0, 0, 1, 0, 0, 1, 1, 0, 1, 0, 1, 0, 0, 0,\n",
       "       0, 0, 1])"
      ]
     },
     "execution_count": 37,
     "metadata": {},
     "output_type": "execute_result"
    }
   ],
   "source": [
    "# You can get prediction back from the model\n",
    "\n",
    "classifier.predict(X_test)"
   ]
  },
  {
   "cell_type": "markdown",
   "id": "909ecb55",
   "metadata": {},
   "source": [
    "## Logging models with preprocessing\n",
    "As can be seen, MLflow automatically logs models for you, but some times you need to log a different model, specially when you are doing preprocessing. In this example we did some categorical encoding, so our model right now expects the values of the column thal to be integers, not strings.\n",
    "\n",
    "To make that requirement go away, we can create a Pipeline object with Scikit-Learn and log that model instead of the one automatically logged for us. Let's see how:"
   ]
  },
  {
   "cell_type": "code",
   "execution_count": 39,
   "id": "00c47533",
   "metadata": {},
   "outputs": [],
   "source": [
    "# Reload the dataset\n",
    "df = pd.read_csv(file_url)"
   ]
  },
  {
   "cell_type": "code",
   "execution_count": 40,
   "id": "c1f68631",
   "metadata": {},
   "outputs": [],
   "source": [
    "from sklearn.model_selection import train_test_split\n",
    "\n",
    "X_train, X_test, y_train, y_test = train_test_split(\n",
    "    df.drop(\"target\", axis=1), df[\"target\"], test_size=0.3\n",
    ")"
   ]
  },
  {
   "cell_type": "markdown",
   "id": "2fe8094b",
   "metadata": {},
   "source": [
    "## Using an encoder\n",
    "First let's use a OrdinalEncoder instead of the categorical types"
   ]
  },
  {
   "cell_type": "code",
   "execution_count": 41,
   "id": "534ab573",
   "metadata": {},
   "outputs": [],
   "source": [
    "import numpy as np\n",
    "from sklearn.preprocessing import OrdinalEncoder"
   ]
  },
  {
   "cell_type": "markdown",
   "id": "bbeef08f",
   "metadata": {},
   "source": [
    "# We only need to transform the column thal. A convenient way to do this is by applying a ColumnTransformer to that column, the remaining columns will be sent directly to the model:"
   ]
  },
  {
   "cell_type": "code",
   "execution_count": 45,
   "id": "30983305",
   "metadata": {},
   "outputs": [],
   "source": [
    "from sklearn.compose import ColumnTransformer\n",
    "from xgboost import XGBClassifier\n",
    "\n",
    "encoder = ColumnTransformer(\n",
    "    [\n",
    "        (\n",
    "            \"cat_encoding\",\n",
    "            OrdinalEncoder(\n",
    "                categories=\"auto\",\n",
    "            \n",
    "            ),\n",
    "            [\"thal\"],\n",
    "        )\n",
    "    ],\n",
    "    remainder=\"passthrough\",\n",
    ")"
   ]
  },
  {
   "cell_type": "code",
   "execution_count": 46,
   "id": "fd022ee9",
   "metadata": {},
   "outputs": [],
   "source": [
    "model = XGBClassifier(use_label_encoder=False, eval_metric=\"logloss\")"
   ]
  },
  {
   "cell_type": "code",
   "execution_count": 47,
   "id": "7719ca02",
   "metadata": {},
   "outputs": [],
   "source": [
    "from sklearn.pipeline import Pipeline\n",
    "from sklearn.compose import ColumnTransformer"
   ]
  },
  {
   "cell_type": "code",
   "execution_count": 48,
   "id": "4a9c1dc9",
   "metadata": {},
   "outputs": [],
   "source": [
    "pipeline = Pipeline(steps=[(\"encoding\", encoder), (\"model\", model)])"
   ]
  },
  {
   "cell_type": "code",
   "execution_count": 49,
   "id": "9b23cea8",
   "metadata": {},
   "outputs": [
    {
     "data": {
      "text/plain": [
       "Pipeline(steps=[('encoding',\n",
       "                 ColumnTransformer(remainder='passthrough',\n",
       "                                   transformers=[('cat_encoding',\n",
       "                                                  OrdinalEncoder(),\n",
       "                                                  ['thal'])])),\n",
       "                ('model',\n",
       "                 XGBClassifier(base_score=None, booster=None, callbacks=None,\n",
       "                               colsample_bylevel=None, colsample_bynode=None,\n",
       "                               colsample_bytree=None,\n",
       "                               early_stopping_rounds=None,\n",
       "                               enable_categorical=False, eval_metric='logloss',\n",
       "                               gamma=None, g...olicy=None,\n",
       "                               importance_type=None,\n",
       "                               interaction_constraints=None, learning_rate=None,\n",
       "                               max_bin=None, max_cat_to_onehot=None,\n",
       "                               max_delta_step=None, max_depth=None,\n",
       "                               max_leaves=None, min_child_weight=None,\n",
       "                               missing=nan, monotone_constraints=None,\n",
       "                               n_estimators=100, n_jobs=None,\n",
       "                               num_parallel_tree=None, predictor=None,\n",
       "                               random_state=None, reg_alpha=None,\n",
       "                               reg_lambda=None, ...))])"
      ]
     },
     "execution_count": 49,
     "metadata": {},
     "output_type": "execute_result"
    }
   ],
   "source": [
    "pipeline"
   ]
  },
  {
   "cell_type": "markdown",
   "id": "83856568",
   "metadata": {},
   "source": [
    "We can log this model in our run. Since this is a Scikit-Learn object, we will log it using such flavor instead of xgboost. Let's create a new complete run so we can see the difference."
   ]
  },
  {
   "cell_type": "markdown",
   "id": "8769e8ce",
   "metadata": {},
   "source": [
    "### Signatures\n",
    "One extra thing we need to take care of is the expected signature of the model. Signatures are use by MLflow to know what type of inputs are expected for a given model. This allows the model builder to be explicit about which types are being expected. In the first model we logged, all inputs needed to be numeric, including the column thal. However, our new pipeline can encode this values automatically so we can take thal values in string format."
   ]
  },
  {
   "cell_type": "code",
   "execution_count": 50,
   "id": "b13ad602",
   "metadata": {},
   "outputs": [],
   "source": [
    "from mlflow.models import infer_signature\n",
    "\n",
    "signature = infer_signature(X_test, y_test)"
   ]
  },
  {
   "cell_type": "code",
   "execution_count": 51,
   "id": "8c22d285",
   "metadata": {},
   "outputs": [
    {
     "data": {
      "text/plain": [
       "inputs: \n",
       "  ['age': long, 'sex': long, 'cp': long, 'trestbps': long, 'chol': long, 'fbs': long, 'restecg': long, 'thalach': long, 'exang': long, 'oldpeak': double, 'slope': long, 'ca': long, 'thal': string]\n",
       "outputs: \n",
       "  ['target': long]"
      ]
     },
     "execution_count": 51,
     "metadata": {},
     "output_type": "execute_result"
    }
   ],
   "source": [
    "signature"
   ]
  },
  {
   "cell_type": "markdown",
   "id": "a1bfeb81",
   "metadata": {},
   "source": [
    "### Logging the pipeline model\n",
    "Now, it's time to to fit our entire pipeline and log it inside the run."
   ]
  },
  {
   "cell_type": "code",
   "execution_count": 52,
   "id": "37960d59",
   "metadata": {},
   "outputs": [
    {
     "name": "stderr",
     "output_type": "stream",
     "text": [
      "2023/06/14 16:51:55 WARNING mlflow.xgboost: Unable to log dataset information to MLflow Tracking.XGBoost version must be >= 1.7.0\n"
     ]
    }
   ],
   "source": [
    "with mlflow.start_run() as run:\n",
    "    pipeline.fit(X_train, y_train)\n",
    "    mlflow.sklearn.log_model(pipeline, artifact_path=\"pipeline\", signature=signature)"
   ]
  },
  {
   "cell_type": "code",
   "execution_count": 53,
   "id": "99f6e2b4",
   "metadata": {},
   "outputs": [],
   "source": [
    "pipeline_model = mlflow.sklearn.load_model(f\"runs:/{run.info.run_id}/pipeline\")"
   ]
  },
  {
   "cell_type": "code",
   "execution_count": 54,
   "id": "9e1e3c6a",
   "metadata": {},
   "outputs": [
    {
     "data": {
      "text/plain": [
       "sklearn.pipeline.Pipeline"
      ]
     },
     "execution_count": 54,
     "metadata": {},
     "output_type": "execute_result"
    }
   ],
   "source": [
    "type(pipeline_model)"
   ]
  },
  {
   "cell_type": "code",
   "execution_count": 55,
   "id": "b10bce28",
   "metadata": {},
   "outputs": [
    {
     "data": {
      "text/plain": [
       "array([0, 0, 1, 0, 0, 0, 1, 1, 1, 1, 0, 0, 0, 1, 1, 0, 0, 0, 0, 0, 0, 1,\n",
       "       0, 0, 0, 0, 0, 1, 0, 1, 1, 0, 0, 0, 0, 0, 0, 1, 0, 1, 0, 0, 0, 0,\n",
       "       0, 0, 0, 0, 0, 1, 0, 1, 1, 0, 0, 0, 1, 0, 1, 1, 0, 0, 0, 1, 0, 0,\n",
       "       0, 0, 0, 0, 0, 0, 0, 1, 1, 0, 0, 1, 0, 1, 0, 1, 1, 0, 0, 0, 0, 0,\n",
       "       1, 0, 0])"
      ]
     },
     "execution_count": 55,
     "metadata": {},
     "output_type": "execute_result"
    }
   ],
   "source": [
    "pipeline_model.predict(X_test)"
   ]
  },
  {
   "cell_type": "code",
   "execution_count": null,
   "id": "976b3dc9",
   "metadata": {},
   "outputs": [],
   "source": []
  }
 ],
 "metadata": {
  "kernelspec": {
   "display_name": "Python 3 (ipykernel)",
   "language": "python",
   "name": "python3"
  },
  "language_info": {
   "codemirror_mode": {
    "name": "ipython",
    "version": 3
   },
   "file_extension": ".py",
   "mimetype": "text/x-python",
   "name": "python",
   "nbconvert_exporter": "python",
   "pygments_lexer": "ipython3",
   "version": "3.8.11"
  }
 },
 "nbformat": 4,
 "nbformat_minor": 5
}
